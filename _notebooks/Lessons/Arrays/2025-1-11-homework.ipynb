{
 "cells": [
  {
   "cell_type": "raw",
   "metadata": {
    "vscode": {
     "languageId": "raw"
    }
   },
   "source": [
    "---\n",
    "layout: page\n",
    "title: Arrays Homework\n",
    "permalink: /ArraysHomework/\n",
    "---"
   ]
  },
  {
   "cell_type": "markdown",
   "metadata": {},
   "source": [
    "# Homework!! #\n",
    "\n",
    "Your task is to fill in the following code to alter the arrays!"
   ]
  },
  {
   "cell_type": "markdown",
   "metadata": {},
   "source": [
    "# Lesson 1 Homework"
   ]
  },
  {
   "cell_type": "code",
   "execution_count": 1,
   "metadata": {
    "vscode": {
     "languageId": "javascript"
    }
   },
   "outputs": [
    {
     "data": {
      "application/javascript": "//We have an array made for you, but something's off...\nlet desserts = [\"lemon\",\"delete1\",\"ice cream\",\"chocolate cake\",\"key lime pie\",\"delete2\"];\n//We need to get rid of the elements labeled delete1 and delete2!\ndesserts.pop();//which command gets rid of the last element in the array?\ndesserts.splice(1,1);//which command will delete the delete 1 element and how do you use it??\n\n//now that that's done... a lemon isn't a dessert unless you're weird... maybe change it to a lemon-themed dessert?\ndesserts[0]=\"lemon starburst\";\n\n//hint for the previous 2 fill-in-the-blanks: the indexing starts at 0\n\n//okay okay, you've proven your skills... now all that's left is to print the list!\nconsole.log(desserts);\n",
      "text/plain": [
       "<IPython.core.display.Javascript object>"
      ]
     },
     "metadata": {},
     "output_type": "display_data"
    }
   ],
   "source": [
    "%%js\n",
    "//We have an array made for you, but something's off...\n",
    "let desserts = [\"lemon\",\"delete1\",\"ice cream\",\"chocolate cake\",\"key lime pie\",\"delete2\"];\n",
    "//We need to get rid of the elements labeled delete1 and delete2!\n",
    "desserts.pop();//which command gets rid of the last element in the array?\n",
    "desserts.splice(1,1);//which command will delete the delete 1 element and how do you use it??\n",
    "\n",
    "//now that that's done... a lemon isn't a dessert unless you're weird... maybe change it to a lemon-themed dessert?\n",
    "desserts[0]=\"lemon starburst\";\n",
    "\n",
    "//hint for the previous 2 fill-in-the-blanks: the indexing starts at 0\n",
    "\n",
    "//okay okay, you've proven your skills... now all that's left is to print the list!\n",
    "console.log(desserts);"
   ]
  },
  {
   "cell_type": "markdown",
   "metadata": {},
   "source": [
    "# Lesson 2 Homework - Part 1"
   ]
  },
  {
   "cell_type": "code",
   "execution_count": 3,
   "metadata": {
    "vscode": {
     "languageId": "javascript"
    }
   },
   "outputs": [
    {
     "data": {
      "application/javascript": "//Okay, this will be a little tougher. We can put your knowledge of the second lesson to the test. (ignore that this concept is easy compared to the other lessons lol)\n\n//I want you to create a list of whatever you'd like (integers or strings, it really doesn't matter) and have a repeating element in it. ex: let list = [1,2,3,1,4]; \nlet list = [1,2,3,4,5,6,7,8,9,1]\n\n//Ok, now I know this is about arrays, but could you make a for loop to iterate through each element and print the index of them?\n\nfor(let elements in list){\n    console.log(elements);\n}\n\n\n\n\n//Wait! You remember that repeating element I made you put in your list? Create a separate command outside of the loop to print the index of the last occurring repeated value.\nconsole.log(list.lastIndexOf(1));\n\n\n\n\n",
      "text/plain": [
       "<IPython.core.display.Javascript object>"
      ]
     },
     "metadata": {},
     "output_type": "display_data"
    }
   ],
   "source": [
    "%%js\n",
    "//Okay, this will be a little tougher. We can put your knowledge of the second lesson to the test. (ignore that this concept is easy compared to the other lessons lol)\n",
    "\n",
    "//I want you to create a list of whatever you'd like (integers or strings, it really doesn't matter) and have a repeating element in it. ex: let list = [1,2,3,1,4]; \n",
    "let list = [1,2,3,4,5,6,7,8,9,1]\n",
    "\n",
    "//Ok, now I know this is about arrays, but could you make a for loop to iterate through each element and print the index of them?\n",
    "\n",
    "for(let elements in list){\n",
    "    console.log(elements);\n",
    "}\n",
    "\n",
    "\n",
    "\n",
    "\n",
    "//Wait! You remember that repeating element I made you put in your list? Create a separate command outside of the loop to print the index of the last occurring repeated value.\n",
    "console.log(list.lastIndexOf(1));\n",
    "\n",
    "\n",
    "\n",
    "\n"
   ]
  },
  {
   "cell_type": "markdown",
   "metadata": {},
   "source": [
    "# Lesson 2 Homework - Part 2"
   ]
  },
  {
   "cell_type": "code",
   "execution_count": 5,
   "metadata": {
    "vscode": {
     "languageId": "javascript"
    }
   },
   "outputs": [
    {
     "data": {
      "application/javascript": "//This is the fairly simple final problem of arrays!\n\n//Create a list here that includes whatever you'd like once again.\nlet list = [1,2,3,4,5,6,5,4,3,2,1];\n\n\n//Now, print the length of your list! Tip: you don't need to create a variable for the list's length! Just console.log the list.length; it saves you a line :D\nconsole.log(list.length);\n\n\n//Finally, create a variable to check if a value in your list is included in the list and print that variable you created (it should output true or false)\nlet isIncluded = list.includes(1);\nconsole.log(isIncluded);\n",
      "text/plain": [
       "<IPython.core.display.Javascript object>"
      ]
     },
     "metadata": {},
     "output_type": "display_data"
    }
   ],
   "source": [
    "%%js\n",
    "//This is the fairly simple final problem of arrays!\n",
    "\n",
    "//Create a list here that includes whatever you'd like once again.\n",
    "let list = [1,2,3,4,5,6,5,4,3,2,1];\n",
    "\n",
    "\n",
    "//Now, print the length of your list! Tip: you don't need to create a variable for the list's length! Just console.log the list.length; it saves you a line :D\n",
    "console.log(list.length);\n",
    "\n",
    "\n",
    "//Finally, create a variable to check if a value in your list is included in the list and print that variable you created (it should output true or false)\n",
    "let isIncluded = list.includes(1);\n",
    "console.log(isIncluded);\n"
   ]
  },
  {
   "cell_type": "markdown",
   "metadata": {
    "vscode": {
     "languageId": "javascript"
    }
   },
   "source": [
    "You're done with your homework!!"
   ]
  }
 ],
 "metadata": {
  "kernelspec": {
   "display_name": "venv",
   "language": "python",
   "name": "python3"
  },
  "language_info": {
   "codemirror_mode": {
    "name": "ipython",
    "version": 3
   },
   "file_extension": ".py",
   "mimetype": "text/x-python",
   "name": "python",
   "nbconvert_exporter": "python",
   "pygments_lexer": "ipython3",
   "version": "3.12.3"
  }
 },
 "nbformat": 4,
 "nbformat_minor": 2
}
