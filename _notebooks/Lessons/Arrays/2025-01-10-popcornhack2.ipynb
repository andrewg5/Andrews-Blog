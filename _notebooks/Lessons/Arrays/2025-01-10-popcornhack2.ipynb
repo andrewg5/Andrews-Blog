{
 "cells": [
  {
   "cell_type": "markdown",
   "metadata": {},
   "source": [
    "```yaml\n",
    "\n",
    "---\n",
    "layout: page\n",
    "title: Popcorn Hacks One\n",
    "permalink: /phjupyter/\n",
    "---"
   ]
  },
  {
   "cell_type": "markdown",
   "metadata": {},
   "source": [
    "---\n",
    "Popcorn Hacks One\n",
    "---"
   ]
  },
  {
   "cell_type": "markdown",
   "metadata": {},
   "source": [
    " - Delete the last two items of the list below (delete1 and delete2)\n",
    " - Change the non dessert item (fries) to a dessert\n",
    " - Add two more desserts to list"
   ]
  },
  {
   "cell_type": "code",
   "execution_count": 4,
   "metadata": {
    "vscode": {
     "languageId": "javascript"
    }
   },
   "outputs": [
    {
     "data": {
      "application/javascript": "\nlet desserts = ['cake', 'ice cream', 'cookies', 'fries', 'delete1', 'delete2']\n\ndesserts.splice(3, 1, \"pie\")\ndesserts.pop();\ndesserts.pop();\ndesserts.push(\"starburst\");\ndesserts.push(\"brownie\")\n\nconsole.log(desserts.join(\", \"))\n",
      "text/plain": [
       "<IPython.core.display.Javascript object>"
      ]
     },
     "metadata": {},
     "output_type": "display_data"
    }
   ],
   "source": [
    "%%js\n",
    "\n",
    "let desserts = ['cake', 'ice cream', 'cookies', 'fries', 'delete1', 'delete2']\n",
    "\n",
    "desserts.splice(3, 1, \"pie\")\n",
    "desserts.pop();\n",
    "desserts.pop();\n",
    "desserts.push(\"starburst\");\n",
    "desserts.push(\"brownie\")\n",
    "\n",
    "console.log(desserts.join(\", \"))"
   ]
  },
  {
   "cell_type": "markdown",
   "metadata": {},
   "source": [
    "---\n",
    "Popcorn Hack Two\n",
    "---"
   ]
  },
  {
   "cell_type": "markdown",
   "metadata": {},
   "source": [
    "<br>\n",
    " - Create a length of a list and print it in console.log()\n",
    "\n",
    "<br>\n",
    " - Create a variable called \"list\" or \"my_list_2\"\n",
    "<br>\n",
    " - Create a list of numbers or words in the brackets [] Exp: let your_list = [3, 7, 9, 21];\n",
    "<br>\n",
    " - Create a const length = your_list.length;\n",
    "<br>\n",
    " - After all of that, finally print it out in console.log() Exp: console.log(your_list);\n",
    "<br>"
   ]
  },
  {
   "cell_type": "code",
   "execution_count": 2,
   "metadata": {
    "vscode": {
     "languageId": "javascript"
    }
   },
   "outputs": [
    {
     "data": {
      "application/javascript": "\n\nlet list = [1, 2, 3, 4, 4, 5, 6, 7, 8, 10]; // create an variable \n\n\nconst length = list.length; // create a const length\n\n\nconsole.log(list); // print out your list in console\n",
      "text/plain": [
       "<IPython.core.display.Javascript object>"
      ]
     },
     "metadata": {},
     "output_type": "display_data"
    }
   ],
   "source": [
    "%%js   \n",
    "\n",
    "\n",
    "let list = [1, 2, 3, 4, 4, 5, 6, 7, 8, 10]; // create an variable \n",
    "\n",
    "\n",
    "const length = list.length; // create a const length\n",
    "\n",
    "\n",
    "console.log(list); // print out your list in console"
   ]
  }
 ],
 "metadata": {
  "kernelspec": {
   "display_name": "venv",
   "language": "python",
   "name": "python3"
  },
  "language_info": {
   "codemirror_mode": {
    "name": "ipython",
    "version": 3
   },
   "file_extension": ".py",
   "mimetype": "text/x-python",
   "name": "python",
   "nbconvert_exporter": "python",
   "pygments_lexer": "ipython3",
   "version": "3.12.3"
  }
 },
 "nbformat": 4,
 "nbformat_minor": 2
}
