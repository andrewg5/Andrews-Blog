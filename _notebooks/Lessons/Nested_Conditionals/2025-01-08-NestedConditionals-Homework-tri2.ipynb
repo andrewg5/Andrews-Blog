{
 "cells": [
  {
   "cell_type": "raw",
   "metadata": {
    "vscode": {
     "languageId": "raw"
    }
   },
   "source": [
    "---\n",
    "layout: post\n",
    "title: Nested Conditionals, Homework\n",
    "description:  Homework for nested conditionals\n",
    "permalink: /csse/javascript/fundamentals/nestedConditionals/Homework\n",
    "type: issues \n",
    "comments: true\n",
    "---"
   ]
  },
  {
   "cell_type": "markdown",
   "metadata": {},
   "source": [
    "### Homework Objectives\n",
    "\n",
    "You and your friend want to do different things at the amusement park. To decide, you do a coin flip. Heads means that you get to choose where to go and tails means that your friend gets to choose. If you go on a ride, be sure to check if you are the right height and have enough tickets, and if you go to a food stand, make sure that you have enough money and that the food is in stock. Be creative, and make sure to use nested conditionals!"
   ]
  },
  {
   "cell_type": "markdown",
   "metadata": {},
   "source": [
    "### Instructions\n",
    "\n",
    "1) Create a JavaScript file (Ex. insertName.js)\n",
    "\n",
    "2) Plan out what you will be doing and make variables for the necessary things. There will be a coin flip, so make a variable for that. If there are rides, make a value for the amount of tickets the person has and what height they are. If they go to a food stand, you can make a variable for the amount of money that you have and if the food is in stock.\n",
    "\n",
    "3) Use Math.random() for the coin flip. This generates a number between 0 and 1, so then you multiply this value by 2 and put it inside Math.floor() to round down and get either 0 or 1. Make this the coin flip variable.\n",
    "\n",
    "4) Use an if statement to check what the result of the coin flip was and use console.log to print out a statement to see who won or lost the coin flip. Along with that, print out where they are going next.\n",
    "\n",
    "5) Use more if statements inside of if statements to check if the person can do what they want to do. (Are they tall enough, do they have enough money, etc.)\n",
    "\n",
    "6) After all the checks, print out a result of what happened. If you get stuck, you can look at the examples in the popcorn hacks. Please don't copy and paste, though! \n"
   ]
  },
  {
   "cell_type": "code",
   "execution_count": 13,
   "metadata": {
    "vscode": {
     "languageId": "javascript"
    }
   },
   "outputs": [
    {
     "data": {
      "application/javascript": "\nlet coinFlip = Math.floor(Math.random() * 2 ) == 1 ? true : false;\n\nlet tickets = 10;\nlet height = 57;\nlet money = 10;\nlet inStock = true;\n\nlet ride = \"\";\n\n\nif(coinFlip){\n    console.log(\"I win\");\n    console.log(\"we are go roller coaster\");\n    ride = \"roller coaster\";\n}\nelse{\n    console.log(\"u win\");\n    console.log(\"we are go food stand\");\n    ride = \"food stand\";\n}\n\nif(ride == \"roller coaster\"){\n    if(tickets >= 10){\n        if(height >= 50){\n            console.log(\"you go on roller coaster\");\n        }\n        else{\n            console.log(\"you are not tall enough\");\n        }\n    }\n    else{\n        console.log(\"not enough tickets\");\n    }\n}\nelse if(ride ==\"food stand\"){\n    if(inStock){\n        if(money >= 15){\n            console.log(\"yuou buy food\");\n        }\n        else{\n            console.log(\"you can't afford food\");\n        }\n    }\n    else{\n        console.log(\"they are out of stock\");\n    }\n}\n",
      "text/plain": [
       "<IPython.core.display.Javascript object>"
      ]
     },
     "metadata": {},
     "output_type": "display_data"
    }
   ],
   "source": [
    "%%js\n",
    "\n",
    "let coinFlip = Math.floor(Math.random() * 2 ) == 1 ? true : false;\n",
    "\n",
    "let tickets = 10;\n",
    "let height = 57;\n",
    "let money = 10;\n",
    "let inStock = true;\n",
    "\n",
    "let ride = \"\";\n",
    "\n",
    "\n",
    "if(coinFlip){\n",
    "    console.log(\"I win\");\n",
    "    console.log(\"we are go roller coaster\");\n",
    "    ride = \"roller coaster\";\n",
    "}\n",
    "else{\n",
    "    console.log(\"u win\");\n",
    "    console.log(\"we are go food stand\");\n",
    "    ride = \"food stand\";\n",
    "}\n",
    "\n",
    "if(ride == \"roller coaster\"){\n",
    "    if(tickets >= 10){\n",
    "        if(height >= 50){\n",
    "            console.log(\"you go on roller coaster\");\n",
    "        }\n",
    "        else{\n",
    "            console.log(\"you are not tall enough\");\n",
    "        }\n",
    "    }\n",
    "    else{\n",
    "        console.log(\"not enough tickets\");\n",
    "    }\n",
    "}\n",
    "else if(ride ==\"food stand\"){\n",
    "    if(inStock){\n",
    "        if(money >= 15){\n",
    "            console.log(\"yuou buy food\");\n",
    "        }\n",
    "        else{\n",
    "            console.log(\"you can't afford food\");\n",
    "        }\n",
    "    }\n",
    "    else{\n",
    "        console.log(\"they are out of stock\");\n",
    "    }\n",
    "}"
   ]
  }
 ],
 "metadata": {
  "kernelspec": {
   "display_name": "venv",
   "language": "python",
   "name": "python3"
  },
  "language_info": {
   "codemirror_mode": {
    "name": "ipython",
    "version": 3
   },
   "file_extension": ".py",
   "mimetype": "text/x-python",
   "name": "python",
   "nbconvert_exporter": "python",
   "pygments_lexer": "ipython3",
   "version": "3.12.3"
  }
 },
 "nbformat": 4,
 "nbformat_minor": 2
}
