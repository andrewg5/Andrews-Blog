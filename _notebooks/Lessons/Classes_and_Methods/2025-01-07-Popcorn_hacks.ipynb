{
 "cells": [
  {
   "cell_type": "raw",
   "metadata": {
    "vscode": {
     "languageId": "raw"
    }
   },
   "source": [
    "---\n",
    "layout: post\n",
    "title: Popcorn Hacks\n",
    "description:  Popcorn Hacks for lessons.\n",
    "type: issues \n",
    "comments: true\n",
    "---"
   ]
  },
  {
   "cell_type": "markdown",
   "metadata": {},
   "source": [
    "# JavaScript Classes and Methods - Interactive Popcorns \n",
    "In this notebook, you will learn about classes and methods in JavaScript. During the lesson, use these to enhance your understanding of clases and methods\n",
    "### \n",
    "- **Objectivs**: Do something - Change Later\n",
    "- **How**:\n",
    "\n"
   ]
  },
  {
   "cell_type": "code",
   "execution_count": 8,
   "metadata": {
    "vscode": {
     "languageId": "javascript"
    }
   },
   "outputs": [
    {
     "data": {
      "application/javascript": "\nclass fridge{\n    constructor(width, height){\n        this.width=width;\n        this.height=height;\n    }\n    \n}\n\nlet rect1 = new fridge(20, 40);\nlet rect2 = new fridge(10,20);\nconsole.log(`${rect1.width} , ${rect1.height}`);\n",
      "text/plain": [
       "<IPython.core.display.Javascript object>"
      ]
     },
     "metadata": {},
     "output_type": "display_data"
    }
   ],
   "source": [
    "%%js\n",
    "\n",
    "class fridge{\n",
    "    constructor(width, height){\n",
    "        this.width=width;\n",
    "        this.height=height;\n",
    "    }\n",
    "    \n",
    "}\n",
    "\n",
    "let rect1 = new fridge(20, 40);\n",
    "let rect2 = new fridge(10,20);\n",
    "console.log(`${rect1.width} , ${rect1.height}`);"
   ]
  },
  {
   "cell_type": "code",
   "execution_count": 25,
   "metadata": {
    "vscode": {
     "languageId": "javascript"
    }
   },
   "outputs": [
    {
     "data": {
      "application/javascript": "\nclass rect{\n    constructor(area){\n        this.area = area;\n    }\n\n    getSides() {\n        let sides = [];\n        for(let i  = 1; i <= Math.floor(Math.sqrt(this.area)); i++){\n            if(this.area % i === 0){\n                let w = i;\n                let h = this.area/i;\n                let dimensions = `(${w}, ${h})`;\n                sides.push(dimensions);\n            }\n        }\n\n        return sides;\n    }\n    \n}\n\nlet rect1 = new rect(28);\nconsole.log(rect1.getSides());\n",
      "text/plain": [
       "<IPython.core.display.Javascript object>"
      ]
     },
     "metadata": {},
     "output_type": "display_data"
    }
   ],
   "source": [
    "%%js\n",
    "\n",
    "class rect{\n",
    "    constructor(area){\n",
    "        this.area = area;\n",
    "    }\n",
    "\n",
    "    getSides() {\n",
    "        let sides = [];\n",
    "        for(let i  = 1; i <= Math.floor(Math.sqrt(this.area)); i++){\n",
    "            if(this.area % i === 0){\n",
    "                let w = i;\n",
    "                let h = this.area/i;\n",
    "                let dimensions = `(${w}, ${h})`;\n",
    "                sides.push(dimensions);\n",
    "            }\n",
    "        }\n",
    "\n",
    "        return sides;\n",
    "    }\n",
    "    \n",
    "}\n",
    "\n",
    "let rect1 = new rect(28);\n",
    "console.log(rect1.getSides());"
   ]
  },
  {
   "cell_type": "code",
   "execution_count": 24,
   "metadata": {
    "vscode": {
     "languageId": "javascript"
    }
   },
   "outputs": [
    {
     "data": {
      "application/javascript": "class Rectangle {\n    constructor(width, height) {\n        this.width = width;\n        this.height = height;\n    }\n    // **Code missing**: Add method to calculate the perimeter of the rectangle\n    getPerimeter() {\n        return 2*this.width+2*this.height;\n    }\n}\nconst rect = new Rectangle(10, 5);\nconsole.log(rect.getPerimeter()); // Output should be 30\n",
      "text/plain": [
       "<IPython.core.display.Javascript object>"
      ]
     },
     "metadata": {},
     "output_type": "display_data"
    }
   ],
   "source": [
    "%%js\n",
    "class Rectangle {\n",
    "    constructor(width, height) {\n",
    "        this.width = width;\n",
    "        this.height = height;\n",
    "    }\n",
    "    // **Code missing**: Add method to calculate the perimeter of the rectangle\n",
    "    getPerimeter() {\n",
    "        return 2*this.width+2*this.height;\n",
    "    }\n",
    "}\n",
    "const rect = new Rectangle(10, 5);\n",
    "console.log(rect.getPerimeter()); // Output should be 30"
   ]
  },
  {
   "cell_type": "code",
   "execution_count": 26,
   "metadata": {
    "vscode": {
     "languageId": "javascript"
    }
   },
   "outputs": [
    {
     "data": {
      "application/javascript": "\nclass Square {\n    constructor(sideLength) {\n        this.sideLength = sideLength;\n    }\n    // **Code missing**: Add method to calculate the diagonal of the square\n    getDiagonal() {\n        return Math.sqrt(2*this.sideLength);\n    }\n}\n\nconst square = new Square(10);\nconsole.log(square.getDiagonal());\n",
      "text/plain": [
       "<IPython.core.display.Javascript object>"
      ]
     },
     "metadata": {},
     "output_type": "display_data"
    }
   ],
   "source": [
    "%%js\n",
    "\n",
    "class Square {\n",
    "    constructor(sideLength) {\n",
    "        this.sideLength = sideLength;\n",
    "    }\n",
    "    // **Code missing**: Add method to calculate the diagonal of the square\n",
    "    getDiagonal() {\n",
    "        return Math.sqrt(2*this.sideLength);\n",
    "    }\n",
    "}\n",
    "\n",
    "const square = new Square(10);\n",
    "console.log(square.getDiagonal());"
   ]
  }
 ],
 "metadata": {
  "kernelspec": {
   "display_name": "venv",
   "language": "python",
   "name": "python3"
  },
  "language_info": {
   "codemirror_mode": {
    "name": "ipython",
    "version": 3
   },
   "file_extension": ".py",
   "mimetype": "text/x-python",
   "name": "python",
   "nbconvert_exporter": "python",
   "pygments_lexer": "ipython3",
   "version": "3.12.3"
  }
 },
 "nbformat": 4,
 "nbformat_minor": 2
}
