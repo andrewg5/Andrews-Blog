{
 "cells": [
  {
   "cell_type": "code",
   "execution_count": null,
   "metadata": {},
   "outputs": [],
   "source": [
    "---\n",
    "layout: post\n",
    "title: Homework\n",
    "description: Homework after condition lesson \n",
    "categories: [CSSE JavaScript Fundamentals]\n",
    "courses: { csse: {week: 0}, csp: {week: 0 }, csa: {week: 0}}\n",
    "type: collab\n",
    "permalink: /Conditions_HW\n",
    "author: Yasna Ahmadi, Katherine Law, Yuna Lee, Namira Sharif\n",
    "toc: true\n",
    "---"
   ]
  },
  {
   "cell_type": "markdown",
   "metadata": {},
   "source": [
    "\n",
    "## Homeworks  \n",
    "\n",
    "\n",
    "### Part 1:\n",
    " Choose one from the three options to make a conditonal statement and if help is needed, use the Format at the bottom of the page.\n",
    "\n",
    "#### Option 1: Grade Checker \n",
    "Example for the grade checker:\n",
    "\n",
    "\"F\" if the grade is below 60.\n",
    "\"D\" if the grade is between 60 and 69.\n",
    "\"C\" if the grade is between 70 and 79.\n",
    "\"B\" if the grade is between 80 and 89.\n",
    "\"A\" if the grade is 90 or above.\n",
    "\n",
    "#### Option 2: Weather app\n",
    "Example for a weather app:\n",
    "\n",
    "If the weather is sunny, print: \"It's a great day to go outside!\"\n",
    "If the weather is rainy, print: \"Don't forget your umbrella!\"\n",
    "If the weather is snowy, print: \"Stay warm and safe!\"\n",
    "\n",
    "#### Option 3: Character Health Status\n",
    "Example for a character health status:\n",
    "\n",
    "If the health is 0, print: \"Your character is dead.\"\n",
    "If the health is between 1 and 25, print: \"Critical condition! Find a health pack!\"\n",
    "If the health is between 26 and 75, print: \"Your character is wounded. Be cautious.\"\n",
    "If the health is above 75, print: \"Your character is healthy and ready for action!\"\n",
    "\n",
    "### Part 2:\n",
    " Make another conditional statement with your idea.\n",
    "\n",
    " Make any If-Then, If, or Then-If statements with different ideas.\n",
    "\n",
    "\n",
    "##### Format: "
   ]
  },
  {
   "cell_type": "code",
   "execution_count": 9,
   "metadata": {
    "vscode": {
     "languageId": "javascript"
    }
   },
   "outputs": [
    {
     "data": {
      "application/javascript": "\nlet health = 10;\n\nif(health == 0)\n    console.log(\"your character is dead\");\nelse if(health >= 1 && health <=25)\n    console.log(\"critical condition\");\nelse if(health >=26 && health <=75)\n    console.log(\"your character is wounded, be caurious\");\nelse if(health > 75)\n    console.log(\"your character is healthy\");\n",
      "text/plain": [
       "<IPython.core.display.Javascript object>"
      ]
     },
     "metadata": {},
     "output_type": "display_data"
    }
   ],
   "source": [
    "%%js\n",
    "\n",
    "let health = 10;\n",
    "\n",
    "if(health == 0)\n",
    "    console.log(\"your character is dead\");\n",
    "else if(health >= 1 && health <=25)\n",
    "    console.log(\"critical condition\");\n",
    "else if(health >=26 && health <=75)\n",
    "    console.log(\"your character is wounded, be caurious\");\n",
    "else if(health > 75)\n",
    "    console.log(\"your character is healthy\");\n",
    "\n",
    "//if u have 1 line of code in an if statment, you dont need curly braces\n"
   ]
  },
  {
   "cell_type": "code",
   "execution_count": 18,
   "metadata": {
    "vscode": {
     "languageId": "javascript"
    }
   },
   "outputs": [
    {
     "data": {
      "application/javascript": "let winCoinFlip = Math.floor(Math.random() * 2) == 1 ? true : false;\nlet money = 10;\n\n\nwhile(true){\n    if (winCoinFlip) {\n        console.log(\"you won coin flip\");\n        money *= 2;\n    } else {\n        console.log(\"you lost coin flip\");\n        money /= 2;\n    }\n    winCoinFlip = Math.floor(Math.random() * 2) == 1 ? true : false;\n\n    console.log(money);\n\n    if(money > 50){\n        console.log(\"you won\")\n        break;\n    }\n    else if(money <= 1){\n        console.log(\"you lost\");\n        break;\n    }\n    \n}\n\n",
      "text/plain": [
       "<IPython.core.display.Javascript object>"
      ]
     },
     "metadata": {},
     "output_type": "display_data"
    }
   ],
   "source": [
    "%%js\n",
    "let winCoinFlip = Math.floor(Math.random() * 2) == 1 ? true : false;\n",
    "let money = 10;\n",
    "\n",
    "\n",
    "while(true){\n",
    "    if (winCoinFlip) {\n",
    "        console.log(\"you won coin flip\");\n",
    "        money *= 2;\n",
    "    } else {\n",
    "        console.log(\"you lost coin flip\");\n",
    "        money /= 2;\n",
    "    }\n",
    "    winCoinFlip = Math.floor(Math.random() * 2) == 1 ? true : false;\n",
    "\n",
    "    console.log(money);\n",
    "\n",
    "    if(money > 50){\n",
    "        console.log(\"you won\")\n",
    "        break;\n",
    "    }\n",
    "    else if(money <= 1){\n",
    "        console.log(\"you lost\");\n",
    "        break;\n",
    "    }\n",
    "    \n",
    "}\n",
    "\n"
   ]
  },
  {
   "cell_type": "markdown",
   "metadata": {
    "vscode": {
     "languageId": "raw"
    }
   },
   "source": [
    "##### After testing any of the options, revise it and make another one from the options.\n"
   ]
  }
 ],
 "metadata": {
  "kernelspec": {
   "display_name": "venv",
   "language": "python",
   "name": "python3"
  },
  "language_info": {
   "codemirror_mode": {
    "name": "ipython",
    "version": 3
   },
   "file_extension": ".py",
   "mimetype": "text/x-python",
   "name": "python",
   "nbconvert_exporter": "python",
   "pygments_lexer": "ipython3",
   "version": "3.12.3"
  }
 },
 "nbformat": 4,
 "nbformat_minor": 2
}
